{
  "nbformat": 4,
  "nbformat_minor": 0,
  "metadata": {
    "colab": {
      "provenance": [],
      "authorship_tag": "ABX9TyMyJVykWqW31KKDrL6hOOZM",
      "include_colab_link": true
    },
    "kernelspec": {
      "name": "python3",
      "display_name": "Python 3"
    },
    "language_info": {
      "name": "python"
    }
  },
  "cells": [
    {
      "cell_type": "markdown",
      "metadata": {
        "id": "view-in-github",
        "colab_type": "text"
      },
      "source": [
        "<a href=\"https://colab.research.google.com/github/sailorcosmos101/Deeplearning_KU_2023/blob/main/pinn_laminar_flow_1112.ipynb\" target=\"_parent\"><img src=\"https://colab.research.google.com/assets/colab-badge.svg\" alt=\"Open In Colab\"/></a>"
      ]
    },
    {
      "cell_type": "code",
      "execution_count": null,
      "metadata": {
        "id": "bnTsDh-qSHFl"
      },
      "outputs": [],
      "source": [
        "import numpy as np\n",
        "import time\n",
        "import matplotlib\n",
        "# matplotlib.use('Agg')\n",
        "import matplotlib.pyplot as plt\n",
        "import pickle\n",
        "import scipy.io\n",
        "import random\n"
      ]
    },
    {
      "cell_type": "code",
      "source": [
        "import tensorflow as tf"
      ],
      "metadata": {
        "id": "AI5KNcQ9Tcf3"
      },
      "execution_count": null,
      "outputs": []
    },
    {
      "cell_type": "code",
      "source": [
        "class PINN_laminar_flow:\n",
        "  def __init__(self,Collo,INLET,OUTLET,WALL,uv_layers,lb,ub,ExistModel=0,uvDir=''):\n",
        "    # Count for callback function\n",
        "    self.count=0\n",
        "\n",
        "    # Bounds\n",
        "    self.lb=lb\n",
        "    self.ub=ub\n",
        "\n",
        "    # Mat. properties\n",
        "    self.rho=1.0\n",
        "    self.mu=0.02\n",
        "\n",
        "    # Collocation point\n",
        "    self.x_c=Collo[:,0:1]\n",
        "    self.y_c=Collo[:,1:2]\n",
        "\n",
        "  def initialize_NN(self,layers):\n",
        "    return weights, biases\n",
        "\n",
        "  def xavier_init(self, size):\n",
        "\n",
        "  def save_NN(self, fileDir):\n",
        "\n",
        "  def load_NN(self, fileDir, layers):\n",
        "\n",
        "  def neural_net(self,X,weights,biases):\n",
        "\n",
        "  # uv???\n",
        "  def net_uv(self,x,y):\n",
        "\n",
        "  # f???\n",
        "  def net_f(self,x,y):\n",
        "\n",
        "  def callback(self,loss):\n",
        "\n",
        "  def train(self, iter, learning_rate):\n",
        "\n",
        "  # bfgs???\n",
        "  def train_bfgs(self):\n",
        "\n",
        "  def predict(self,x_star,y_star):\n",
        "\n",
        "  def getloss(self):"
      ],
      "metadata": {
        "id": "Jll_N1iwoz9i"
      },
      "execution_count": null,
      "outputs": []
    }
  ]
}