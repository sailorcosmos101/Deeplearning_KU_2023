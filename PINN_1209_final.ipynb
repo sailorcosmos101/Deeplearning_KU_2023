{
  "nbformat": 4,
  "nbformat_minor": 0,
  "metadata": {
    "colab": {
      "provenance": [],
      "gpuType": "T4",
      "mount_file_id": "1MtI6dhdb1n568xnl333ctKqcj1CRXqAt",
      "authorship_tag": "ABX9TyOsaDLJ9u9B9ql1KGoiYksg",
      "include_colab_link": true
    },
    "kernelspec": {
      "name": "python3",
      "display_name": "Python 3"
    },
    "language_info": {
      "name": "python"
    },
    "accelerator": "GPU"
  },
  "cells": [
    {
      "cell_type": "markdown",
      "metadata": {
        "id": "view-in-github",
        "colab_type": "text"
      },
      "source": [
        "<a href=\"https://colab.research.google.com/github/sailorcosmos101/Deeplearning_KU_2023/blob/main/PINN_1209_final.ipynb\" target=\"_parent\"><img src=\"https://colab.research.google.com/assets/colab-badge.svg\" alt=\"Open In Colab\"/></a>"
      ]
    },
    {
      "cell_type": "markdown",
      "source": [
        "Deeplearning HW2 FInal project\n",
        "2021160324 최이준"
      ],
      "metadata": {
        "id": "Flq2LRnGLcV0"
      }
    },
    {
      "cell_type": "code",
      "source": [
        "import tensorflow as tf"
      ],
      "metadata": {
        "id": "sVfTcBR0kadD"
      },
      "execution_count": null,
      "outputs": []
    },
    {
      "cell_type": "code",
      "execution_count": null,
      "metadata": {
        "colab": {
          "base_uri": "https://localhost:8080/"
        },
        "id": "b0wbnTe0jxj1",
        "outputId": "4ec26e67-16d7-4417-8fb1-4e39357ac874"
      },
      "outputs": [
        {
          "output_type": "stream",
          "name": "stdout",
          "text": [
            "2023-12-08 00:44:14.980691: E tensorflow/compiler/xla/stream_executor/cuda/cuda_dnn.cc:9342] Unable to register cuDNN factory: Attempting to register factory for plugin cuDNN when one has already been registered\n",
            "2023-12-08 00:44:14.980741: E tensorflow/compiler/xla/stream_executor/cuda/cuda_fft.cc:609] Unable to register cuFFT factory: Attempting to register factory for plugin cuFFT when one has already been registered\n",
            "2023-12-08 00:44:14.980776: E tensorflow/compiler/xla/stream_executor/cuda/cuda_blas.cc:1518] Unable to register cuBLAS factory: Attempting to register factory for plugin cuBLAS when one has already been registered\n",
            "2023-12-08 00:44:18.799639: W tensorflow/compiler/tf2tensorrt/utils/py_utils.cc:38] TF-TRT Warning: Could not find TensorRT\n",
            "Traceback (most recent call last):\n",
            "  File \"/usr/local/bin/tf_upgrade_v2\", line 8, in <module>\n",
            "    sys.exit(main())\n",
            "  File \"/usr/local/lib/python3.10/dist-packages/tensorflow/tools/compatibility/tf_upgrade_v2_main.py\", line 156, in main\n",
            "    files_processed, report_text, errors = process_file(\n",
            "  File \"/usr/local/lib/python3.10/dist-packages/tensorflow/tools/compatibility/tf_upgrade_v2_main.py\", line 40, in process_file\n",
            "    upgrader.process_file(in_filename, out_filename)\n",
            "  File \"/usr/local/lib/python3.10/dist-packages/tensorflow/tools/compatibility/ast_edits.py\", line 909, in process_file\n",
            "    with open(in_filename, \"r\") as in_file, \\\n",
            "FileNotFoundError: [Errno 2] No such file or directory: 'SteadyFlowCylinder_mixed.py'\n"
          ]
        }
      ],
      "source": [
        "!tf_upgrade_v2 --infile SteadyFlowCylinder_mixed.py --outfile spgraded.py"
      ]
    },
    {
      "cell_type": "code",
      "source": [
        "!pip install --upgrade pyDOE"
      ],
      "metadata": {
        "colab": {
          "base_uri": "https://localhost:8080/"
        },
        "id": "KvUOLuIYlJTB",
        "outputId": "1dbe19bd-0b13-4d28-9fa8-a7c1758b6141"
      },
      "execution_count": null,
      "outputs": [
        {
          "output_type": "stream",
          "name": "stdout",
          "text": [
            "Collecting pyDOE\n",
            "  Downloading pyDOE-0.3.8.zip (22 kB)\n",
            "  Preparing metadata (setup.py) ... \u001b[?25l\u001b[?25hdone\n",
            "Requirement already satisfied: numpy in /usr/local/lib/python3.10/dist-packages (from pyDOE) (1.23.5)\n",
            "Requirement already satisfied: scipy in /usr/local/lib/python3.10/dist-packages (from pyDOE) (1.11.4)\n",
            "Building wheels for collected packages: pyDOE\n",
            "  Building wheel for pyDOE (setup.py) ... \u001b[?25l\u001b[?25hdone\n",
            "  Created wheel for pyDOE: filename=pyDOE-0.3.8-py3-none-any.whl size=18168 sha256=02395601fb45d7367a70118b819b1152b6af27a15a50a62e0df492386dbf97a5\n",
            "  Stored in directory: /root/.cache/pip/wheels/ce/b6/d7/c6b64746dba6433c593e471e0ac3acf4f36040456d1d160d17\n",
            "Successfully built pyDOE\n",
            "Installing collected packages: pyDOE\n",
            "Successfully installed pyDOE-0.3.8\n"
          ]
        }
      ]
    },
    {
      "cell_type": "code",
      "source": [
        "import numpy as np\n",
        "import time\n",
        "from pyDOE import lhs\n",
        "import matplotlib\n",
        "\n",
        "import matplotlib.pyplot as plt\n",
        "import pickle\n",
        "import scipy.io\n",
        "import random\n",
        "\n",
        "tf.compat.v1.disable_eager_execution()\n",
        "import os\n",
        "os.environ['CUDA_VISIBLE_DEVICES'] = '0'  # CPU:-1; GPU0: 1; GPU1: 0;\n",
        "\n",
        "random.seed(1111)\n",
        "np.random.seed(1111)\n",
        "tf.compat.v1.set_random_seed(1111)"
      ],
      "metadata": {
        "id": "IMTpYLQclFMY"
      },
      "execution_count": null,
      "outputs": []
    },
    {
      "cell_type": "code",
      "source": [
        "class PINN_laminar_flow:\n",
        "    def __init__(self, Collo, INLET, OUTLET, WALL, uv_layers, Lower_Bd, Upper_Bd, ExistModel=0, uvDir=''):\n",
        "\n",
        "        self.count=0\n",
        "        # 필요 상수 정의\n",
        "        self.rho = 1.0\n",
        "        self.mu = 0.02\n",
        "\n",
        "        # Collocation point\n",
        "        self.x_c = Collo[:, 0:1]\n",
        "        self.y_c = Collo[:, 1:2]\n",
        "        self.x_INLET = INLET[:, 0:1]\n",
        "        self.y_INLET = INLET[:, 1:2]\n",
        "        self.u_INLET = INLET[:, 2:3]\n",
        "        self.v_INLET = INLET[:, 3:4]\n",
        "        self.x_OUTLET = OUTLET[:, 0:1]\n",
        "        self.y_OUTLET = OUTLET[:, 1:2]\n",
        "        self.x_WALL = WALL[:, 0:1]\n",
        "        self.y_WALL = WALL[:, 1:2]\n",
        "\n",
        "        self.uv_layers = uv_layers\n",
        "        self.loss_rec = []\n",
        "\n",
        "        self.Lower_Bd = Lower_Bd\n",
        "        self.Upper_Bd = Upper_Bd\n",
        "\n",
        "        # Initialize NNs\n",
        "        if ExistModel== 0 :\n",
        "            self.uv_weights, self.uv_biases = self.initialize_NN(self.uv_layers)\n",
        "\n",
        "        self.learning_rate = tf.compat.v1.placeholder(tf.float32, shape=[])\n",
        "        self.x_tf = tf.compat.v1.placeholder(tf.float32, shape=[None, self.x_c.shape[1]])\n",
        "        self.y_tf = tf.compat.v1.placeholder(tf.float32, shape=[None, self.y_c.shape[1]])\n",
        "        self.x_WALL_tf = tf.compat.v1.placeholder(tf.float32, shape=[None, self.x_WALL.shape[1]])\n",
        "        self.y_WALL_tf = tf.compat.v1.placeholder(tf.float32, shape=[None, self.y_WALL.shape[1]])\n",
        "        self.x_OUTLET_tf = tf.compat.v1.placeholder(tf.float32, shape=[None, self.x_OUTLET.shape[1]])\n",
        "        self.y_OUTLET_tf = tf.compat.v1.placeholder(tf.float32, shape=[None, self.y_OUTLET.shape[1]])\n",
        "        self.x_INLET_tf = tf.compat.v1.placeholder(tf.float32, shape=[None, self.x_INLET.shape[1]])\n",
        "        self.y_INLET_tf = tf.compat.v1.placeholder(tf.float32, shape=[None, self.y_INLET.shape[1]])\n",
        "        self.u_INLET_tf = tf.compat.v1.placeholder(tf.float32, shape=[None, self.u_INLET.shape[1]])\n",
        "        self.v_INLET_tf = tf.compat.v1.placeholder(tf.float32, shape=[None, self.v_INLET.shape[1]])\n",
        "        self.x_c_tf = tf.compat.v1.placeholder(tf.float32, shape=[None, self.x_c.shape[1]])\n",
        "        self.y_c_tf = tf.compat.v1.placeholder(tf.float32, shape=[None, self.y_c.shape[1]])\n",
        "\n",
        "        # tf graphs\n",
        "        self.u_pred, self.v_pred, self.p_pred, _, _, _, self.c_pred = self.Net_uv(self.x_tf, self.y_tf)\n",
        "        self.f_pred_u, self.f_pred_v, self.f_pred_s11, self.f_pred_s22, self.f_pred_s12, \\\n",
        "            self.f_pred_p, self.f_pred_c = self.Net_f(self.x_c_tf, self.y_c_tf)\n",
        "        self.u_WALL_pred, self.v_WALL_pred, _, _, _, _, _ = self.Net_uv(self.x_WALL_tf, self.y_WALL_tf)\n",
        "        self.u_INLET_pred, self.v_INLET_pred, _, _, _, _, _ = self.Net_uv(self.x_INLET_tf, self.y_INLET_tf)\n",
        "        _, _, self.p_OUTLET_pred, _, _, _, _ = self.Net_uv(self.x_OUTLET_tf, self.y_OUTLET_tf)\n",
        "\n",
        "        # loss function 정의\n",
        "        self.loss_f = tf.reduce_mean(tf.square(self.f_pred_u)) \\\n",
        "                      + tf.reduce_mean(tf.square(self.f_pred_v))\\\n",
        "                      + tf.reduce_mean(tf.square(self.f_pred_s11))\\\n",
        "                      + tf.reduce_mean(tf.square(self.f_pred_s22))\\\n",
        "                      + tf.reduce_mean(tf.square(self.f_pred_s12))\\\n",
        "                      + tf.reduce_mean(tf.square(self.f_pred_p))\n",
        "        self.loss_WALL = tf.reduce_mean(tf.square(self.u_WALL_pred)) \\\n",
        "                       + tf.reduce_mean(tf.square(self.v_WALL_pred))\n",
        "        self.loss_INLET = tf.reduce_mean(tf.square(self.u_INLET_pred-self.u_INLET_tf)) \\\n",
        "                         + tf.reduce_mean(tf.square(self.v_INLET_pred-self.v_INLET_tf))\n",
        "        self.loss_OUTLET = tf.reduce_mean(tf.square(self.p_OUTLET_pred))\n",
        "\n",
        "        self.loss_conc = tf.reduce_mean(tf.square(self.f_pred_c))\n",
        "\n",
        "        self.loss = self.loss_f + 1*(self.loss_WALL + self.loss_INLET + self.loss_OUTLET )+ 2*self.loss_conc\n",
        "\n",
        "        # Optimizer for solution\n",
        "        self.optimizer_Adam = tf.compat.v1.train.AdamOptimizer(learning_rate = self.learning_rate)\n",
        "        self.train_op_Adam = self.optimizer_Adam.minimize(self.loss, var_list=self.uv_weights + self.uv_biases)\n",
        "\n",
        "        # tf session\n",
        "        self.sess = tf.compat.v1.Session(config=tf.compat.v1.ConfigProto(allow_soft_placement=True, log_device_placement=True))\n",
        "        init = tf.compat.v1.global_variables_initializer()\n",
        "        self.sess.run(init)\n",
        "\n",
        "    # Neural network 초기화\n",
        "    def initialize_NN(self, layers):\n",
        "        weights = []\n",
        "        biases = []\n",
        "        num_layers = len(layers)\n",
        "        for l in range(0, num_layers - 1):\n",
        "            W = self.xavier_init(size=[layers[l], layers[l + 1]])\n",
        "            b = tf.Variable(tf.zeros([1, layers[l + 1]], dtype=tf.float32), dtype=tf.float32)\n",
        "            weights.append(W)\n",
        "            biases.append(b)\n",
        "        return weights, biases\n",
        "\n",
        "    def xavier_init(self, size):\n",
        "        In = size[0]\n",
        "        Out = size[1]\n",
        "        xavier_stddev = np.sqrt(2 / (In + Out))\n",
        "        return tf.Variable(tf.random.truncated_normal([In, Out], stddev=xavier_stddev, dtype=tf.float32), dtype=tf.float32)\n",
        "\n",
        "    # Neural network 구조 (사전 연구 참고)\n",
        "    def neural_net(self, X, weights, biases):\n",
        "        num_layers = len(weights) + 1\n",
        "        H = X\n",
        "        for l in range(0, num_layers - 2):\n",
        "            W = weights[l]\n",
        "            b = biases[l]\n",
        "            H = tf.tanh(tf.add(tf.matmul(H, W), b))\n",
        "        W = weights[-1]\n",
        "        b = biases[-1]\n",
        "        Y = tf.add(tf.matmul(H, W), b)\n",
        "        return Y\n",
        "\n",
        "    # net_uv 정의\n",
        "    def Net_uv(self, x, y):\n",
        "        psips = self.neural_net(tf.concat([x, y], 1), self.uv_weights, self.uv_biases)\n",
        "        psi = psips[:,0:1]\n",
        "        p = psips[:,1:2]\n",
        "        s11 = psips[:, 2:3]\n",
        "        s22 = psips[:, 3:4]\n",
        "        s12 = psips[:, 4:5]\n",
        "        u = tf.gradients(psi, y)[0]\n",
        "        v = -tf.gradients(psi, x)[0]\n",
        "        c = psips[:,5:6]\n",
        "        return u, v, p, s11, s22, s12, c\n",
        "\n",
        "    # net_f 정의\n",
        "    def Net_f(self, x, y):\n",
        "        rho=self.rho\n",
        "        mu=self.mu\n",
        "        u, v, p, s11, s22, s12, c = self.Net_uv(x, y)\n",
        "\n",
        "        s11_1 = tf.gradients(s11, x)[0]\n",
        "        s12_2 = tf.gradients(s12, y)[0]\n",
        "        s22_2 = tf.gradients(s22, y)[0]\n",
        "        s12_1 = tf.gradients(s12, x)[0]\n",
        "\n",
        "        # Plane stress problem\n",
        "        u_x = tf.gradients(u, x)[0]\n",
        "        u_y = tf.gradients(u, y)[0]\n",
        "        v_x = tf.gradients(v, x)[0]\n",
        "        v_y = tf.gradients(v, y)[0]\n",
        "\n",
        "        # f_u:=Sxx_x+Sxy_y\n",
        "        f_u = rho*(u*u_x + v*u_y) - s11_1 - s12_2\n",
        "        f_v = rho*(u*v_x + v*v_y) - s12_1 - s22_2\n",
        "\n",
        "        # f_mass = u_x+v_y\n",
        "        f_s11 = -p + 2*mu*u_x - s11\n",
        "        f_s22 = -p + 2*mu*v_y - s22\n",
        "        f_s12 = mu*(u_y+v_x) - s12\n",
        "        f_p = p + (s11+s22)/2\n",
        "\n",
        "        # conc = diffusion + advection\n",
        "        D_x = 0.003\n",
        "        D_y = 0.001\n",
        "        c_x = tf.gradients(c, x)[0]\n",
        "        c_y = tf.gradients(c, y)[0]\n",
        "        c_x2 = tf.gradients(c_x, x)[0]\n",
        "        c_y2 = tf.gradients(c_y, y)[0]\n",
        "\n",
        "        f_c = D_x * c_x2 + D_y * c_y2 - (v_x * c_x + v_y * c_y)\n",
        "        return f_u, f_v, f_s11, f_s22, f_s12, f_p, f_c\n",
        "\n",
        "    # train\n",
        "    def train(self, iter, learning_rate):\n",
        "        tf_dict = {self.x_c_tf: self.x_c, self.y_c_tf: self.y_c,\n",
        "                   self.x_WALL_tf: self.x_WALL, self.y_WALL_tf: self.y_WALL,\n",
        "                   self.x_INLET_tf: self.x_INLET, self.y_INLET_tf: self.y_INLET, self.u_INLET_tf: self.u_INLET, self.v_INLET_tf: self.v_INLET,\n",
        "                   self.x_OUTLET_tf: self.x_OUTLET, self.y_OUTLET_tf: self.y_OUTLET,\n",
        "                   self.learning_rate: learning_rate}\n",
        "\n",
        "        loss_WALL = []\n",
        "        loss_f = []\n",
        "        loss_INLET = []\n",
        "        loss_OUTLET = []\n",
        "        loss_conc = []\n",
        "\n",
        "        for it in range(iter):\n",
        "            self.sess.run(self.train_op_Adam, tf_dict)\n",
        "            if it % 10 == 0:\n",
        "                loss_value = self.sess.run(self.loss, tf_dict)\n",
        "                print('It: %d, Loss: %.3e' %\n",
        "                      (it, loss_value))\n",
        "\n",
        "            loss_WALL.append(self.sess.run(self.loss_WALL, tf_dict))\n",
        "            loss_f.append(self.sess.run(self.loss_f, tf_dict))\n",
        "            self.loss_rec.append(self.sess.run(self.loss, tf_dict))\n",
        "            loss_INLET.append(self.sess.run(self.loss_INLET, tf_dict))\n",
        "            loss_OUTLET.append(self.sess.run(self.loss_OUTLET, tf_dict))\n",
        "            loss_conc.append(self.sess.run(self.loss_conc,tf_dict))\n",
        "        return loss_WALL, loss_INLET, loss_OUTLET, loss_f, loss_conc, self.loss\n",
        "\n",
        "    def predict(self, x_star, y_star):\n",
        "        u_star = self.sess.run(self.u_pred, {self.x_tf: x_star, self.y_tf: y_star})\n",
        "        v_star = self.sess.run(self.v_pred, {self.x_tf: x_star, self.y_tf: y_star})\n",
        "        p_star = self.sess.run(self.p_pred, {self.x_tf: x_star, self.y_tf: y_star})\n",
        "        c_star = self.sess.run(self.c_pred, {self.x_tf: x_star, self.y_tf: y_star})\n",
        "        return u_star, v_star, p_star, c_star\n",
        "\n",
        "    def getloss(self):\n",
        "        tf_dict = {self.x_c_tf: self.x_c, self.y_c_tf: self.y_c,\n",
        "                   self.x_WALL_tf: self.x_WALL, self.y_WALL_tf: self.y_WALL,\n",
        "                   self.x_INLET_tf: self.x_INLET, self.y_INLET_tf: self.y_INLET, self.u_INLET_tf: self.u_INLET, self.v_INLET_tf: self.v_INLET,\n",
        "                   self.x_OUTLET_tf: self.x_OUTLET, self.y_OUTLET_tf: self.y_OUTLET}\n",
        "\n",
        "        loss_f = self.sess.run(self.loss_f, tf_dict)\n",
        "        loss_WALL = self.sess.run(self.loss_WALL, tf_dict)\n",
        "        loss_INLET = self.sess.run(self.loss_INLET, tf_dict)\n",
        "        loss = self.sess.run(self.loss, tf_dict)\n",
        "        loss_OUTLET = self.sess.run(self.loss_OUTLET, tf_dict)\n",
        "        loss_conc = self.sess.run(self.loss_conc, tf_dict)\n",
        "\n",
        "        return loss_WALL, loss_INLET, loss_OUTLET, loss_f, loss, loss_conc"
      ],
      "metadata": {
        "id": "gfNWyyDclOrZ"
      },
      "execution_count": null,
      "outputs": []
    },
    {
      "cell_type": "code",
      "source": [
        "# 원기둥의 장애물 만들기 (사전 연구 참고)\n",
        "def DelCylPT(XY_c, xc=0.0, yc=0.0, r=0.1):\n",
        "    dst = np.array([((xy[0] - xc) ** 2 + (xy[1] - yc) ** 2) ** 0.5 for xy in XY_c])\n",
        "    return XY_c[dst>r,:]"
      ],
      "metadata": {
        "id": "LD2lHUl-lTUp"
      },
      "execution_count": null,
      "outputs": []
    },
    {
      "cell_type": "code",
      "source": [
        "# postProcess : 방법은 시각화를 통해 사전 연구와 비교하기 위해 사전 연구 참고, 그러나 conc는 본인이 추가\n",
        "def postProcess(xmin, xmax, ymin, ymax, field_MIXED, s=2, alpha=0.5, marker='o'):\n",
        "    # c_PINN 출력 어떻게 하지\n",
        "    [x_MIXED, y_MIXED, u_MIXED, v_MIXED, p_MIXED, c_FLUENT] = field_MIXED\n",
        "\n",
        "    fig, ax = plt.subplots(nrows=4, ncols=2, figsize=(14,10))\n",
        "    fig.subplots_adjust(hspace=0.2, wspace=0.2)\n",
        "\n",
        "    # Plot MIXED result\n",
        "    cf = ax[0, 0].scatter(x_MIXED, y_MIXED, c=u_MIXED, alpha=alpha-0.1, edgecolors='none', cmap='rainbow', marker=marker, s=int(s))\n",
        "    ax[0, 0].axis('square')\n",
        "    for key, spine in ax[0, 0].spines.items():\n",
        "        if key in ['right','top','left','bottom']:\n",
        "            spine.set_visible(False)\n",
        "    ax[0, 0].set_xticks([])\n",
        "    ax[0, 0].set_yticks([])\n",
        "    ax[0, 0].set_xlim([xmin, xmax])\n",
        "    ax[0, 0].set_ylim([ymin, ymax])\n",
        "    ax[0, 0].set_title(r'$u$ (m/s)')\n",
        "    fig.colorbar(cf, ax=ax[0, 0], fraction=0.046, pad=0.04)\n",
        "\n",
        "    cf = ax[1, 0].scatter(x_MIXED, y_MIXED, c=v_MIXED, alpha=alpha-0.1, edgecolors='none', cmap='rainbow', marker=marker, s=int(s))\n",
        "    ax[1, 0].axis('square')\n",
        "    for key, spine in ax[1, 0].spines.items():\n",
        "        if key in ['right','top','left','bottom']:\n",
        "            spine.set_visible(False)\n",
        "    ax[1, 0].set_xticks([])\n",
        "    ax[1, 0].set_yticks([])\n",
        "    ax[1, 0].set_xlim([xmin, xmax])\n",
        "    ax[1, 0].set_ylim([ymin, ymax])\n",
        "    ax[1, 0].set_title(r'$v$ (m/s)')\n",
        "    fig.colorbar(cf, ax=ax[1, 0], fraction=0.046, pad=0.04)\n",
        "\n",
        "    cf = ax[2, 0].scatter(x_MIXED, y_MIXED, c=p_MIXED, alpha=alpha, edgecolors='none', cmap='rainbow', marker=marker, s=int(s), vmin=-0.25, vmax=4.0)\n",
        "    ax[2, 0].axis('square')\n",
        "    for key, spine in ax[2, 0].spines.items():\n",
        "        if key in ['right','top','left','bottom']:\n",
        "            spine.set_visible(False)\n",
        "    ax[2, 0].set_xticks([])\n",
        "    ax[2, 0].set_yticks([])\n",
        "    ax[2, 0].set_xlim([xmin, xmax])\n",
        "    ax[2, 0].set_ylim([ymin, ymax])\n",
        "    ax[2, 0].set_title('Pressure (Pa)')\n",
        "    fig.colorbar(cf, ax=ax[2, 0], fraction=0.046, pad=0.04)\n",
        "\n",
        "    cf = ax[3,0].scatter(x_MIXED, y_MIXED, c=p_MIXED, alpha=alpha, edgecolors='none', cmap='rainbow', marker=marker, s=int(s), vmin=-0.25, vmax=4.0)\n",
        "    ax[3, 0].axis('square')\n",
        "    for key, spine in ax[3, 0].spines.items():\n",
        "        if key in ['right','top','left','bottom']:\n",
        "            spine.set_visible(False)\n",
        "    ax[3, 0].set_xticks([])\n",
        "    ax[3, 0].set_yticks([])\n",
        "    ax[3, 0].set_xlim([xmin, xmax])\n",
        "    ax[3, 0].set_ylim([ymin, ymax])\n",
        "    ax[3, 0].set_title('Concentration')\n",
        "    fig.colorbar(cf, ax=ax[3, 0], fraction=0.046, pad=0.04)\n",
        "\n",
        "\n",
        "    plt.savefig('./uvp.png', dpi=300)\n",
        "    plt.close('all')\n"
      ],
      "metadata": {
        "id": "gG8a-LV_lVyw"
      },
      "execution_count": null,
      "outputs": []
    },
    {
      "cell_type": "code",
      "source": [
        "if __name__ == \"__main__\":\n",
        "\n",
        "    # Domain bounds\n",
        "    Lower_Bd = np.array([0, 0])\n",
        "    Upper_Bd = np.array([1.2, 0.40])\n",
        "\n",
        "    # Network configuration\n",
        "    uv_layers = [2] + 8*[50] + [5]\n",
        "\n",
        "    # WALL = [x, y], u=v=0\n",
        "    wall_up = [0.0, 0.40] + [1.2, 0.0] * lhs(2, 441)\n",
        "    wall_lw = [0.0, 0.00] + [1.2, 0.0] * lhs(2, 441)\n",
        "\n",
        "    # INLET = [x, y, u, v] (사전 연구 참고)\n",
        "    U_max = 1.0\n",
        "    INLET = [0.0, 0.0] + [0.0, 0.40] * lhs(2, 201)\n",
        "    y_INLET = INLET[:,1:2]\n",
        "    u_INLET = 4*U_max*y_INLET*(0.40-y_INLET)/(0.40**2)\n",
        "    v_INLET = 0*y_INLET\n",
        "    INLET = np.concatenate((INLET, u_INLET, v_INLET), 1)\n",
        "\n",
        "    OUTLET = [1.2, 0.0] + [0.0, 0.40] * lhs(2, 201)\n",
        "\n",
        "    # Cylinder surface (사전 연구 참고)\n",
        "    r = 0.05\n",
        "    theta = [0.0] + [2*np.pi] * lhs(1, 251)\n",
        "    x_CYLD = np.multiply(r, np.cos(theta))+0.2\n",
        "    y_CYLD = np.multiply(r, np.sin(theta))+0.2\n",
        "    CYLD = np.concatenate((x_CYLD, y_CYLD), 1)\n",
        "\n",
        "    WALL = np.concatenate((CYLD, wall_up, wall_lw), 0)\n",
        "\n",
        "    # Collocation point for equation residual (사전 연구 참고)\n",
        "    XY_c = Lower_Bd + (Upper_Bd - Lower_Bd) * lhs(2, 40000)\n",
        "    XY_c_refine = [0.1, 0.1] + [0.2, 0.2] * lhs(2, 10000)\n",
        "    XY_c = np.concatenate((XY_c, XY_c_refine), 0)\n",
        "    XY_c = DelCylPT(XY_c, xc=0.2, yc=0.2, r=0.05)\n",
        "\n",
        "    XY_c = np.concatenate((XY_c, WALL, CYLD, OUTLET, INLET[:,0:2]), 0)\n",
        "\n",
        "    # Concentration\n",
        "    c = np.zeros(49154)[:, None]\n",
        "    c[1425] = 1\n",
        "\n",
        "    print(XY_c.shape)\n",
        "\n",
        "    # Visualize the collocation points (사전 연구 참고)\n",
        "    fig, ax = plt.subplots()\n",
        "    ax.set_aspect('equal')\n",
        "    plt.scatter(XY_c[:,0:1], XY_c[:,1:2], marker='o', alpha=0.1 ,color='blue')\n",
        "    plt.scatter(WALL[:,0:1], WALL[:,1:2], marker='o', alpha=0.2 , color='green')\n",
        "    plt.scatter(OUTLET[:, 0:1], OUTLET[:, 1:2], marker='o', alpha=0.2, color='orange')\n",
        "    plt.scatter(INLET[:, 0:1], INLET[:, 1:2], marker='o', alpha=0.2, color='red')\n",
        "    plt.show()"
      ],
      "metadata": {
        "id": "MDJuJJ07lcWq",
        "colab": {
          "base_uri": "https://localhost:8080/",
          "height": 244
        },
        "outputId": "c8003d48-6c54-41da-fb4c-1c566b60ac88"
      },
      "execution_count": null,
      "outputs": [
        {
          "output_type": "stream",
          "name": "stdout",
          "text": [
            "(49190, 2)\n"
          ]
        },
        {
          "output_type": "display_data",
          "data": {
            "text/plain": [
              "<Figure size 640x480 with 1 Axes>"
            ],
            "image/png": "[encoded data removed]"
          },
          "metadata": {}
        }
      ]
    },
    {
      "cell_type": "code",
      "source": [
        "    with tf.device('/device:GPU:0'):\n",
        "        config = tf.compat.v1.ConfigProto()\n",
        "        config.gpu_options.allow_growth = True\n",
        "        session = tf.compat.v1.Session(config=config)\n",
        "\n",
        "        # Train from scratch\n",
        "        model = PINN_laminar_flow(XY_c, INLET, OUTLET, WALL, uv_layers, lb, ub)\n",
        "        start_time = time.time()\n",
        "        loss_WALL, loss_INLET, loss_OUTLET, loss_f,loss_conc, loss = model.train(iter=100, learning_rate=5e-4)\n",
        "        print(\"--- %s seconds ---\" % (time.time() - start_time))\n",
        "\n",
        "        # Save loss history\n",
        "        with open('drive/MyDrive/loss_history.pickle', 'wb') as f:\n",
        "            pickle.dump(model.loss_rec, f)"
      ],
      "metadata": {
        "id": "MqiT5U-UpBxz",
        "colab": {
          "base_uri": "https://localhost:8080/"
        },
        "outputId": "08824a58-2af6-4f5d-81fa-3322e90048c4"
      },
      "execution_count": null,
      "outputs": [
        {
          "output_type": "stream",
          "name": "stdout",
          "text": [
            "Device mapping:\n",
            "/job:localhost/replica:0/task:0/device:GPU:0 -> device: 0, name: Tesla T4, pci bus id: 0000:00:04.0, compute capability: 7.5\n",
            "\n",
            "It: 0, Loss: 6.202e-01\n",
            "It: 10, Loss: 3.357e-01\n",
            "It: 20, Loss: 3.162e-01\n",
            "It: 30, Loss: 3.086e-01\n",
            "It: 40, Loss: 3.049e-01\n",
            "It: 50, Loss: 3.031e-01\n",
            "It: 60, Loss: 3.014e-01\n",
            "It: 70, Loss: 2.990e-01\n",
            "It: 80, Loss: 2.956e-01\n",
            "It: 90, Loss: 2.900e-01\n",
            "--- 41.984981060028076 seconds ---\n"
          ]
        }
      ]
    },
    {
      "cell_type": "code",
      "source": [
        "        x_PINN = np.linspace(0, 1.2, 251)\n",
        "        y_PINN = np.linspace(0, 0.40, 101)\n",
        "        x_PINN, y_PINN = np.meshgrid(x_PINN, y_PINN)\n",
        "        x_PINN = x_PINN.flatten()[:, None]\n",
        "        y_PINN = y_PINN.flatten()[:, None]\n",
        "        dst = ((x_PINN-0.2)**2+(y_PINN-0.2)**2)**0.5\n",
        "        x_PINN = x_PINN[dst >= 0.05]\n",
        "        y_PINN = y_PINN[dst >= 0.05]\n",
        "        x_PINN = x_PINN.flatten()[:, None]\n",
        "        y_PINN = y_PINN.flatten()[:, None]\n",
        "\n",
        "        index_1m_0_6m = np.where((x_PINN == 1.0) & (y_PINN == 0.6))[0]\n",
        "\n",
        "        u_PINN, v_PINN, p_PINN, c_PINN = model.predict(x_PINN, y_PINN)\n",
        "        field_MIXED = [x_PINN, y_PINN, u_PINN, v_PINN, p_PINN, c_PINN]\n",
        "        postProcess(xmin=0, xmax=1.2, ymin=0, ymax=0.40, field_MIXED=field_MIXED, s=3, alpha=0.5)\n",
        "\n"
      ],
      "metadata": {
        "id": "9MDW0s2_pHho"
      },
      "execution_count": null,
      "outputs": []
    },
    {
      "cell_type": "code",
      "source": [],
      "metadata": {
        "id": "P53mS3LONePM"
      },
      "execution_count": null,
      "outputs": []
    }
  ]
}